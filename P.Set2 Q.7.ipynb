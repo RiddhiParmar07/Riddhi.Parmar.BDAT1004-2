{
 "cells": [
  {
   "cell_type": "markdown",
   "metadata": {},
   "source": [
    "# Question 7\n",
    "<pre>Implement recursive function webdir() that takes as input: a URL (as a string) and\n",
    "non-negative integers depth and indent. Your function should visit every web\n",
    "page reachable from the starting URL web page in depth clicks or less, and print\n",
    "each web page's URL. As shown below, indentation, specified by indent, should\n",
    "be used to indicate the depth of a URL.\n",
    ">>>\n",
    "webdir('http://reed.cs.depaul.edu/lperkovic/csc242/test1.html'\n",
    ", 2, 0)\n",
    "http://reed.cs.depaul.edu/lperkovic/csc242/test1.html\n",
    " http://reed.cs.depaul.edu/lperkovic/csc242/test2.html\n",
    " http://reed.cs.depaul.edu/lperkovic/csc242/test4.html\n",
    " http://reed.cs.depaul.edu/lperkovic/csc242/test3.html\n",
    " http://reed.cs.depaul.edu/lperkovic/csc242/test4.html </pre>"
   ]
  },
  {
   "cell_type": "code",
   "execution_count": 20,
   "metadata": {},
   "outputs": [],
   "source": [
    "from bs4 import BeautifulSoup\n",
    "import requests\n",
    "\n",
    "# lists\n",
    "urls=[]\n",
    "\n",
    "# function created\n",
    "def webscraper(site):\n",
    "\n",
    "    # getting the request from url\n",
    "    site = requests.get(site)\n",
    "\n",
    "    # converting the text\n",
    "    conv_text = BeautifulSoup(site.text,\"html.parser\")\n",
    "    \n",
    "    for i in conv_text.find_all(\"a\"):\n",
    "\n",
    "        href = i.attrs['href']\n",
    "\n",
    "        if href.startswith(\"/\"):\n",
    "            web_link = site+href\n",
    "            if Web_link not in urls:\n",
    "                urls.append(web_link)\n",
    "                print(web_link)\n",
    "                # calling it self\n",
    "                webscraper(site)\n",
    "\n",
    "# main function\n",
    "if __name__ ==\"__main__\":\n",
    "    # website to be scrape\n",
    "    site=\"http://reed.cs.depaul.edu/lperkovic/csc242/test1.html\"\n",
    "\n",
    "    # calling function\n",
    "    webscraper(site)\n",
    "    \n"
   ]
  },
  {
   "cell_type": "code",
   "execution_count": 21,
   "metadata": {},
   "outputs": [
    {
     "name": "stdout",
     "output_type": "stream",
     "text": [
      "http://reed.cs.depaul.edu/lperkovic/csc242/test1.html\n"
     ]
    }
   ],
   "source": [
    "print(site)"
   ]
  },
  {
   "cell_type": "code",
   "execution_count": null,
   "metadata": {},
   "outputs": [],
   "source": []
  }
 ],
 "metadata": {
  "kernelspec": {
   "display_name": "Python 3",
   "language": "python",
   "name": "python3"
  },
  "language_info": {
   "codemirror_mode": {
    "name": "ipython",
    "version": 3
   },
   "file_extension": ".py",
   "mimetype": "text/x-python",
   "name": "python",
   "nbconvert_exporter": "python",
   "pygments_lexer": "ipython3",
   "version": "3.8.5"
  }
 },
 "nbformat": 4,
 "nbformat_minor": 5
}
